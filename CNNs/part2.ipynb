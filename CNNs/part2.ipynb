{
  "nbformat": 4,
  "nbformat_minor": 0,
  "metadata": {
    "colab": {
      "name": "part2.ipynb",
      "provenance": [],
      "collapsed_sections": [],
      "include_colab_link": true
    },
    "kernelspec": {
      "name": "python3",
      "display_name": "Python 3"
    },
    "accelerator": "GPU"
  },
  "cells": [
    {
      "cell_type": "markdown",
      "metadata": {
        "id": "view-in-github",
        "colab_type": "text"
      },
      "source": [
        "<a href=\"https://colab.research.google.com/github/amitmakashir/Deep-learning/blob/master/part2.ipynb\" target=\"_parent\"><img src=\"https://colab.research.google.com/assets/colab-badge.svg\" alt=\"Open In Colab\"/></a>"
      ]
    },
    {
      "cell_type": "code",
      "metadata": {
        "id": "eKGH7MInIzH2",
        "colab_type": "code",
        "colab": {}
      },
      "source": [
        "import tensorflow as tf\n",
        "import random\n",
        "import pandas as pd\n",
        "import numpy as np\n",
        "import matplotlib.pyplot as plt\n",
        "import librosa\n",
        "import math\n",
        "\n",
        "import warnings\n",
        "warnings.filterwarnings(\"ignore\") "
      ],
      "execution_count": 0,
      "outputs": []
    },
    {
      "cell_type": "code",
      "metadata": {
        "id": "QNVVSR-bI6_k",
        "colab_type": "code",
        "outputId": "9babaa4d-eb7f-46fc-f1c4-6e248e95828b",
        "colab": {
          "base_uri": "https://localhost:8080/",
          "height": 34
        }
      },
      "source": [
        "# Training data\n",
        "\n",
        "# S is the clean file\n",
        "s, sr = librosa.load('train_clean_male.wav', sr=None)\n",
        "S = librosa.stft(s, n_fft=1024, hop_length=512)\n",
        "\n",
        "# X is the dirty file\n",
        "sn, sr = librosa.load('train_dirty_male.wav', sr=None)\n",
        "X = librosa.stft(sn, n_fft=1024, hop_length=512)\n",
        "\n",
        "# X.shape => (513, 2459)\n",
        "X_mod = np.abs(X.T) # S_mod.shape => (2459, 513)\n",
        "\n",
        "# S.shape => (513, 2459)\n",
        "S_mod = np.abs(S.T) # S_mod.shape => (2459, 513)\n",
        "\n",
        "no_of_features = X_mod.shape[1]\n",
        "no_of_training_samples = X_mod.shape[0]\n",
        "\n",
        "sr"
      ],
      "execution_count": 0,
      "outputs": [
        {
          "output_type": "execute_result",
          "data": {
            "text/plain": [
              "16000"
            ]
          },
          "metadata": {
            "tags": []
          },
          "execution_count": 3
        }
      ]
    },
    {
      "cell_type": "code",
      "metadata": {
        "id": "XsWxXNZ4I8I1",
        "colab_type": "code",
        "outputId": "7c5d983b-1c2f-4d84-c529-2d8d43d6c6ae",
        "colab": {
          "base_uri": "https://localhost:8080/",
          "height": 34
        }
      },
      "source": [
        "# Testing data\n",
        "\n",
        "xt1, sr = librosa.load('test_x_01.wav', sr=None)\n",
        "X_test1 = librosa.stft(xt1, n_fft=1024, hop_length=512)\n",
        "xt2, sr = librosa.load('test_x_02.wav', sr=None)\n",
        "X_test2 = librosa.stft(xt2, n_fft=1024, hop_length=512)\n",
        "\n",
        "X_test1 = np.transpose(X_test1)\n",
        "X_test1_mod = np.abs(X_test1) # X_test1_mod.shape => (142,513)\n",
        "\n",
        "X_test2 = np.transpose(X_test2)\n",
        "X_test2_mod = np.abs(X_test2) # X_test2_mod.shape => (380, 513)\n",
        "\n",
        "print(X_test2_mod.shape)"
      ],
      "execution_count": 0,
      "outputs": [
        {
          "output_type": "stream",
          "text": [
            "(380, 513)\n"
          ],
          "name": "stdout"
        }
      ]
    },
    {
      "cell_type": "code",
      "metadata": {
        "id": "flqwaAidCnRk",
        "colab_type": "code",
        "colab": {}
      },
      "source": [
        "class miniBatch():\n",
        "    def __init__(self,x,y,batch_size,random=True):\n",
        "      self.x = x\n",
        "      self.y = y\n",
        "      \n",
        "      if random:\n",
        "        self.randomizeInputs()\n",
        "        \n",
        "      self.rows = len(x)\n",
        "      self.batch_size = batch_size\n",
        "      self.curr_index = 0\n",
        "      \n",
        "      # Total number of iterations\n",
        "      self.iters = math.ceil(self.rows/self.batch_size)\n",
        "      pass\n",
        "    \n",
        "    def randomizeInputs(self):\n",
        "      assert len(self.x) == len(self.y)\n",
        "      \n",
        "      p = np.random.RandomState(seed=107).permutation(len(self.x))\n",
        "      self.x = self.x[p]\n",
        "      self.y = self.y[p]\n",
        "      return True\n",
        "\n",
        "    \n",
        "    def nextBatch(self):\n",
        "      '''\n",
        "      If the last batch is not of the batch size, give all the remaining elements\n",
        "      '''\n",
        "      \n",
        "      if self.curr_index+self.batch_size >= self.rows:\n",
        "        batch_x = self.x[self.curr_index:]\n",
        "        batch_y = self.y[self.curr_index:]\n",
        "      else:\n",
        "        batch_x = self.x[self.curr_index:self.curr_index+self.batch_size]\n",
        "        batch_y = self.y[self.curr_index:self.curr_index+self.batch_size]\n",
        "      \n",
        "      self.curr_index = self.curr_index+self.batch_size\n",
        "      return batch_x,batch_y\n",
        "    \n",
        "        \n",
        "def crossValSet(x,y,size):\n",
        "  '''\n",
        "  Size will be in percent\n",
        "  Remove \"size\"% of data from the last as keep it for CV  \n",
        "  '''\n",
        "  no_of_elements = math.ceil(len(x)*(size/100))\n",
        "  \n",
        "  train_x = x[:-no_of_elements]\n",
        "  train_y = y[:-no_of_elements]\n",
        "  \n",
        "  cv_x = x[-no_of_elements:]\n",
        "  cv_y = y[-no_of_elements:]    \n",
        "  return train_x,train_y,cv_x,cv_y\n",
        "\n",
        "\n",
        "\n",
        "def transform_input(x):\n",
        "  '''\n",
        "  The input to this function is something like this:\n",
        "  x.shape => [batch_size,1,1,513]\n",
        "  \n",
        "  Take the first 20 frames, and convert it a image or just combine them\n",
        "  Now this is your data point.\n",
        "  x_new.shape => [batch_size,1,20,513]\n",
        "  '''\n",
        "  rows = x.shape[0]\n",
        "  columns = x.shape[1]\n",
        "  grid_size = 20\n",
        "  no_of_channels = 1\n",
        "  \n",
        "  new_rows = rows - grid_size + 1 \n",
        "  x_new = np.array([])\n",
        "  \n",
        "  x_new = [x[row_index:row_index+grid_size] for row_index in range(new_rows)]\n",
        "  x_new = np.array(x_new)\n",
        "  \n",
        "  x_new = x_new.reshape(new_rows,grid_size,columns,no_of_channels)\n",
        "  return x_new"
      ],
      "execution_count": 0,
      "outputs": []
    },
    {
      "cell_type": "code",
      "metadata": {
        "id": "y-f_AcNzBRn9",
        "colab_type": "code",
        "colab": {}
      },
      "source": [
        "# Hyperparameters\n",
        "epochs = 350\n",
        "learning_rate = 0.0002\n",
        "batch_size = 32\n",
        "cv_size = 10"
      ],
      "execution_count": 0,
      "outputs": []
    },
    {
      "cell_type": "code",
      "metadata": {
        "id": "RuqSyxDaI_KV",
        "colab_type": "code",
        "colab": {}
      },
      "source": [
        "transformed_X = transform_input(X_mod)\n",
        "\n",
        "# Drop the first 19 examples because of the transformation\n",
        "train_x,train_y,cv_x,cv_y = crossValSet(transformed_X,S_mod[19:],cv_size) "
      ],
      "execution_count": 0,
      "outputs": []
    },
    {
      "cell_type": "code",
      "metadata": {
        "id": "64N2pU9dJCFP",
        "colab_type": "code",
        "colab": {}
      },
      "source": [
        "## Create placeholders for input X and labels y\n",
        "x_input = tf.placeholder(tf.float32, [None,20,513,1])\n",
        "y_true = tf.placeholder(tf.float32, [None,513])\n",
        "\n",
        "\n",
        "# He initialization\n",
        "he_initializer = tf.contrib.layers.variance_scaling_initializer()\n",
        "    \n",
        "# Architecture of Network\n",
        "layer1 = { \"type\":\"conv2d\",\n",
        "            \"filters\":16,\n",
        "            \"kernel_size\":[4,8],\n",
        "         }\n",
        "\n",
        "layer2 = { \"type\":\"maxpool\",\n",
        "            \"pool_size\":2,\n",
        "            \"padding\":'valid'\n",
        "         }\n",
        "\n",
        "\n",
        "layer3 = { \"type\":\"conv2d\",\n",
        "            \"filters\":32,\n",
        "            \"kernel_size\":2,\n",
        "         }\n",
        "\n",
        "\n",
        "layer4 = { \"type\":\"maxpool\",\n",
        "            \"pool_size\":2,\n",
        "            \"padding\":'valid'\n",
        "         }\n",
        "\n",
        "\n",
        "layers = [layer1,layer2,layer3,layer4]\n",
        "\n",
        "\n",
        "\n",
        "\n",
        "\n",
        "def construct_network(input_x,layers):\n",
        "    '''\n",
        "    Consruct a network depending on the configuration\n",
        "    '''\n",
        "    constructed_network = []\n",
        "    \n",
        "    last_conv_filter = 0\n",
        "    no_of_maxpool = 0\n",
        "    \n",
        "    # He initialization\n",
        "    he_initializer = tf.contrib.layers.variance_scaling_initializer()\n",
        "    \n",
        "    for layer in layers:\n",
        "      \n",
        "      if len(constructed_network) == 0: # This is the First layer\n",
        "        this_input = input_x\n",
        "      else:\n",
        "        this_input = constructed_network[-1]\n",
        "   \n",
        "      \n",
        "      if layer[\"type\"] == \"conv2d\":\n",
        "        current_layer = tf.layers.conv2d( \n",
        "                          inputs = this_input,\n",
        "                         filters = layer[\"filters\"],\n",
        "                         kernel_size = layer[\"kernel_size\"],\n",
        "                         strides = 1,\n",
        "                         padding = \"SAME\",\n",
        "                         kernel_initializer = he_initializer,\n",
        "                         activation = tf.nn.relu\n",
        "                        )\n",
        "        \n",
        "        last_conv_filter = layer[\"filters\"]\n",
        "        \n",
        "      elif layer[\"type\"] == \"maxpool\":\n",
        "        current_layer = tf.layers.max_pooling2d(\n",
        "                          inputs = this_input,\n",
        "                          pool_size = layer[\"pool_size\"],\n",
        "                          strides = layer[\"pool_size\"], # Same as pool size to not consider the same box twice\n",
        "                          padding='valid'\n",
        "                        )\n",
        "        \n",
        "        no_of_maxpool += 1\n",
        "        \n",
        "      # Push this layer to network\n",
        "      constructed_network.append(current_layer)\n",
        "      \n",
        "    # Fully connected layer\n",
        "    # Reshape this layer3 to by flattening this tensor's last 2 dim\n",
        "    \n",
        "    flat_dimensions = (513//(2*no_of_maxpool))*(20//(2*no_of_maxpool))*last_conv_filter \n",
        "    \n",
        "    reshaped_layer = tf.reshape(\n",
        "        constructed_network[-1],\n",
        "        [-1,flat_dimensions],\n",
        "        )\n",
        "    \n",
        "    second_last_layer = tf.layers.dense(\n",
        "        inputs = reshaped_layer,\n",
        "        units = 2048,\n",
        "        activation = tf.nn.relu,\n",
        "        use_bias = True,\n",
        "        kernel_initializer = he_initializer,\n",
        "        bias_initializer = tf.zeros_initializer(),\n",
        "        kernel_regularizer = None,\n",
        "        bias_regularizer = None,\n",
        "        activity_regularizer = None,\n",
        "        kernel_constraint = None\n",
        "        )\n",
        "    \n",
        "    dropout_layer = tf.layers.dropout(second_last_layer,\n",
        "                      rate=0.3\n",
        "                     )\n",
        "    \n",
        "    last_layer = tf.layers.dense(\n",
        "        inputs = dropout_layer,\n",
        "        units = 513,\n",
        "        activation = tf.nn.relu,\n",
        "        use_bias = True,\n",
        "        kernel_initializer = he_initializer,\n",
        "        bias_initializer = tf.zeros_initializer(),\n",
        "        kernel_regularizer = None,\n",
        "        bias_regularizer = None,\n",
        "        activity_regularizer = None,\n",
        "        kernel_constraint = None\n",
        "        )\n",
        "    \n",
        "    constructed_network.append(last_layer)\n",
        "\n",
        "    return constructed_network\n",
        "\n",
        "\n",
        "\n",
        "# ============== Main Program =========================\n",
        "\n",
        "\n",
        "constructed_network = construct_network(x_input,layers)\n",
        "y_pred = constructed_network[-1]\n",
        "\n",
        "## Define the cost function to be optimized and the optimizer to be used  \n",
        "cost = tf.losses.mean_squared_error(y_pred, y_true)\n",
        "train_step = tf.train.AdamOptimizer(learning_rate).minimize(cost)\n",
        "\n",
        "### Start the session\n",
        "sess = tf.InteractiveSession()\n",
        "tf.global_variables_initializer().run()\n",
        "\n",
        "\n",
        "\n",
        "# ====== Training the network ======  \n",
        "\n",
        "cross_validation_errors = []\n",
        "\n",
        "for e in range(epochs):\n",
        "  # Create minibatches and train data on it\n",
        "  mini_batch = miniBatch(train_x,train_y,batch_size)\n",
        "  \n",
        "  for iter in range(mini_batch.iters):\n",
        "    batch_x,batch_y = mini_batch.nextBatch()\n",
        "    sess.run(train_step, feed_dict={x_input: batch_x, y_true: batch_y})\n",
        "\n",
        "  # After every epoch, check the CV error\n",
        "  cross_validation_errors.append(sess.run(cost, feed_dict={x_input: cv_x, y_true: cv_y}))\n",
        "  if e%10 == 0:\n",
        "    print(\"Epoch:\"+ str(e) + \"\\t CV Error:\" + str(cross_validation_errors[-1]))\n",
        "  \n",
        "# ====== Training ends ======    \n",
        "\n",
        "    \n",
        "## Running a feedforward on the test samples\n",
        "s_test_1 = sess.run(y_pred,feed_dict={x_input: transform_input(X_test1_mod)})\n",
        "s_test_2 = sess.run(y_pred,feed_dict={x_input: transform_input(X_test2_mod)})\n",
        "\n",
        "# for calculating SNR\n",
        "y_train = sess.run(y_pred,feed_dict={x_input: transform_input(X_mod)})\n",
        "\n",
        "sess.close()"
      ],
      "execution_count": 0,
      "outputs": []
    },
    {
      "cell_type": "code",
      "metadata": {
        "id": "vAVAvv7bmYGw",
        "colab_type": "code",
        "colab": {}
      },
      "source": [
        ""
      ],
      "execution_count": 0,
      "outputs": []
    },
    {
      "cell_type": "code",
      "metadata": {
        "id": "UgXa05jbJGjR",
        "colab_type": "code",
        "colab": {}
      },
      "source": [
        "# Convert the output of test sample 1 to wav file\n",
        "output_1 = (X_test1[19:]/X_test1_mod[19:]) * s_test_1\n",
        "output_istft_1 = librosa.istft(output_1.T, hop_length=512, win_length=1024)\n",
        "librosa.output.write_wav('test_s_01_recons.wav',output_istft_1, sr)"
      ],
      "execution_count": 0,
      "outputs": []
    },
    {
      "cell_type": "code",
      "metadata": {
        "id": "Pi_7wcRxJIji",
        "colab_type": "code",
        "colab": {}
      },
      "source": [
        "# Convert the output of test sample 2 to wav file\n",
        "output_2 = (X_test2[19:]/X_test2_mod[19:]) * s_test_2\n",
        "output_istft_2 = librosa.istft(output_2.T, hop_length=512, win_length=1024)\n",
        "librosa.output.write_wav('test_s_02_recons.wav', output_istft_2, sr)"
      ],
      "execution_count": 0,
      "outputs": []
    },
    {
      "cell_type": "code",
      "metadata": {
        "id": "QYtYz77EJJQq",
        "colab_type": "code",
        "outputId": "ef9db0f1-0f28-4227-e6a2-4159411342c4",
        "colab": {
          "base_uri": "https://localhost:8080/",
          "height": 34
        }
      },
      "source": [
        "# y_train is the output of network\n",
        "# y_train only has 2440 rows, to match it to the input, we add 19 silent frames\n",
        "\n",
        "silent_frame = np.random.random((19, 513))\n",
        "silent_frame = silent_frame * 10**-5\n",
        "\n",
        "training_ouput = np.concatenate((silent_frame, y_train), axis=0)\n",
        "\n",
        "s_train_pred = (X.T/X_mod)*training_ouput\n",
        "s_train = librosa.istft(s_train_pred.T, hop_length=512, win_length=1024)   \n",
        "len_s = s_train.shape[0]\n",
        "\n",
        "def calcSNR(s_pred_td,s_true_td):\n",
        "      if s_pred_td.shape[0] != s_true_td.shape[0]:\n",
        "        min_length = min(s_pred_td.shape[0],s_true_td.shape[0])\n",
        "        s_pred_td = s_pred_td[:min_length]\n",
        "        s_true_td = s_true_td[:min_length]\n",
        "      \n",
        "      signal = np.sum(np.square(s_true_td))\n",
        "      noise = np.sum(np.square(s_true_td - s_pred_td))\n",
        "      \n",
        "      snr = 10 * np.log10(signal/noise)\n",
        "      \n",
        "      return snr\n",
        "    \n",
        "train_snr = calcSNR(s_train,s)\n",
        "print(\"SNR for the training audio file: \" + str(round(train_snr,3)))"
      ],
      "execution_count": 0,
      "outputs": [
        {
          "output_type": "stream",
          "text": [
            "SNR for the training audio file: 14.441\n"
          ],
          "name": "stdout"
        }
      ]
    },
    {
      "cell_type": "code",
      "metadata": {
        "id": "uGt1qIR2OJmM",
        "colab_type": "code",
        "outputId": "29a87077-ab59-413c-c3a7-a09e833aa5ad",
        "colab": {
          "base_uri": "https://localhost:8080/",
          "height": 364
        }
      },
      "source": [
        "def error_plot(errors,no_of_points):\n",
        "  step = len(errors) // no_of_points\n",
        "  \n",
        "  err = [errors[i] for i in range(step,len(errors),step)]\n",
        "  \n",
        "  plt.plot(err)\n",
        "  plt.ylabel(\"MSE\")\n",
        "  plt.show()\n",
        "  \n",
        "  return errors[-1]\n",
        "\n",
        "error_plot(cross_validation_errors,10)\n",
        "print(\"Mean squared error for the last iteration: \" + str(round(cross_validation_errors[-1],3)))  "
      ],
      "execution_count": 0,
      "outputs": [
        {
          "output_type": "display_data",
          "data": {
            "image/png": "[encoded data removed]",
            "text/plain": [
              "<Figure size 576x396 with 1 Axes>"
            ]
          },
          "metadata": {
            "tags": []
          }
        },
        {
          "output_type": "stream",
          "text": [
            "Mean squared error for the last iteration: 0.016\n"
          ],
          "name": "stdout"
        }
      ]
    },
    {
      "cell_type": "code",
      "metadata": {
        "id": "CgIOO8RQ-47t",
        "colab_type": "code",
        "colab": {}
      },
      "source": [
        ""
      ],
      "execution_count": 0,
      "outputs": []
    }
  ]
}