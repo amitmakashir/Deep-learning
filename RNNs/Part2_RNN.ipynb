{
  "nbformat": 4,
  "nbformat_minor": 0,
  "metadata": {
    "colab": {
      "name": "Part2-RNN.ipynb",
      "provenance": [],
      "collapsed_sections": [],
      "include_colab_link": true
    },
    "kernelspec": {
      "name": "python3",
      "display_name": "Python 3"
    },
    "accelerator": "GPU"
  },
  "cells": [
    {
      "cell_type": "markdown",
      "metadata": {
        "id": "view-in-github",
        "colab_type": "text"
      },
      "source": [
        "<a href=\"https://colab.research.google.com/github/amitmakashir/Deep-learning/blob/master/Part2_RNN.ipynb\" target=\"_parent\"><img src=\"https://colab.research.google.com/assets/colab-badge.svg\" alt=\"Open In Colab\"/></a>"
      ]
    },
    {
      "cell_type": "code",
      "metadata": {
        "id": "ZEWkpEydEQgV",
        "colab_type": "code",
        "colab": {}
      },
      "source": [
        "import tensorflow as tf\n",
        "from tensorflow.contrib import rnn\n",
        "import random\n",
        "import pandas as pd\n",
        "import numpy as np\n",
        "import matplotlib.pyplot as plt\n",
        "import librosa\n",
        "import math\n",
        "import pandas\n",
        "import pickle\n",
        "import seaborn as sns\n",
        "\n",
        "sns.set(color_codes=True)\n",
        "\n",
        "import warnings\n",
        "warnings.filterwarnings('ignore')"
      ],
      "execution_count": 0,
      "outputs": []
    },
    {
      "cell_type": "code",
      "metadata": {
        "id": "9wgY37haEYEw",
        "colab_type": "code",
        "outputId": "7b05cbb1-75e0-4dbc-fd93-216c38af7984",
        "colab": {
          "base_uri": "https://localhost:8080/",
          "height": 122
        }
      },
      "source": [
        "from google.colab import drive\n",
        "drive.mount('/content/drive')"
      ],
      "execution_count": 0,
      "outputs": [
        {
          "output_type": "stream",
          "text": [
            "Go to this URL in a browser: https://accounts.google.com/o/oauth2/auth?client_id=947318989803-6bn6qk8qdgf4n4g3pfee6491hc0brc4i.apps.googleusercontent.com&redirect_uri=urn%3Aietf%3Awg%3Aoauth%3A2.0%3Aoob&scope=email%20https%3A%2F%2Fwww.googleapis.com%2Fauth%2Fdocs.test%20https%3A%2F%2Fwww.googleapis.com%2Fauth%2Fdrive%20https%3A%2F%2Fwww.googleapis.com%2Fauth%2Fdrive.photos.readonly%20https%3A%2F%2Fwww.googleapis.com%2Fauth%2Fpeopleapi.readonly&response_type=code\n",
            "\n",
            "Enter your authorization code:\n",
            "··········\n",
            "Mounted at /content/drive\n"
          ],
          "name": "stdout"
        }
      ]
    },
    {
      "cell_type": "code",
      "metadata": {
        "id": "0bNZEmdyO2Wy",
        "colab_type": "code",
        "outputId": "bb885f57-2954-4fd4-f7dc-05aa71bd8ed0",
        "colab": {
          "base_uri": "https://localhost:8080/",
          "height": 51
        }
      },
      "source": [
        "!ls \"/content/drive/My Drive/Deep Learning/Hw3\""
      ],
      "execution_count": 0,
      "outputs": [
        {
          "output_type": "stream",
          "text": [
            "audiofiles.pickle\t      homework3.zip    train_audiofiles.pickle\n",
            "audiofiles_validation.pickle  test_output.zip  validation_audiofiles.pickle\n"
          ],
          "name": "stdout"
        }
      ]
    },
    {
      "cell_type": "code",
      "metadata": {
        "id": "rUxKrO70YPyE",
        "colab_type": "code",
        "colab": {}
      },
      "source": [
        "!cp \"/content/drive/My Drive/Deep Learning/Hw3/homework3.zip\" \"hw3.zip\""
      ],
      "execution_count": 0,
      "outputs": []
    },
    {
      "cell_type": "code",
      "metadata": {
        "id": "KU5JRZFRgtho",
        "colab_type": "code",
        "colab": {}
      },
      "source": [
        "!unzip \"hw3.zip\""
      ],
      "execution_count": 0,
      "outputs": []
    },
    {
      "cell_type": "markdown",
      "metadata": {
        "id": "RhigxcIgbtWo",
        "colab_type": "text"
      },
      "source": [
        "#### Uncomment the following 4 blocks of code if you want to process the audio files from scratch, otherwise the files will be loaded from pickles stored in google drive.\n",
        "Convert all the training and vaildation audio files to a matrix using STFT. We store both the complex valued output  of the STFT (org) and the magnitude of these values in (abs) . "
      ]
    },
    {
      "cell_type": "code",
      "metadata": {
        "id": "0Ti1CGn4lxOW",
        "colab_type": "code",
        "colab": {}
      },
      "source": [
        "# training_files = {\"abs\":{\"s\":[],\"n\":[],\"x\":[]},\"org\":{\"s\":[],\"n\":[],\"x\":[]}}\n",
        "\n",
        "# for i in range(1200):\n",
        "#     if i%100 == 0:\n",
        "#         print(i)\n",
        "        \n",
        "#     file_no = str(1000000 + i)[-4:]\n",
        "    \n",
        "#     for audio_type in [\"s\",\"n\",\"x\"]:\n",
        "#         file_name = \"timit-homework/tr/\"+\"tr\"+audio_type+file_no+\".wav\"\n",
        "#         s, sr = librosa.load(file_name, sr=None)\n",
        "#         S = librosa.stft(s, n_fft=1024, hop_length=512)\n",
        "#         training_files[\"org\"][audio_type].append(S.T) # S.shape => (x, 513)\n",
        "        \n",
        "#         S_mod = np.abs(S.T) # S_mod.shape => (x, 513)\n",
        "#         training_files[\"abs\"][audio_type].append(S_mod)"
      ],
      "execution_count": 0,
      "outputs": []
    },
    {
      "cell_type": "code",
      "metadata": {
        "id": "dXKeMpxYs-zP",
        "colab_type": "code",
        "colab": {}
      },
      "source": [
        "# # Store data in a pickle file\n",
        "# with open('train_audiofiles.pickle', 'wb') as handle:\n",
        "#     pickle.dump(training_files, handle)\n",
        "    \n",
        "# # Copy the pickle file to Drive for backup purposes\n",
        "# !cp \"train_audiofiles.pickle\" \"/content/drive/My Drive/Deep Learning/Hw3/train_audiofiles.pickle\""
      ],
      "execution_count": 0,
      "outputs": []
    },
    {
      "cell_type": "code",
      "metadata": {
        "id": "jUvEgB_tAX6E",
        "colab_type": "code",
        "colab": {}
      },
      "source": [
        "# validation_files = {\"abs\":{\"s\":[],\"n\":[],\"x\":[]},\"org\":{\"s\":[],\"n\":[],\"x\":[]}}\n",
        "\n",
        "# for i in range(1200):\n",
        "#     if i%10 == 0:\n",
        "#         print(i)\n",
        "    \n",
        "#     file_no = str(1000000 + i)[-4:]\n",
        "    \n",
        "#     for audio_type in [\"s\",\"n\",\"x\"]:\n",
        "#         file_name = \"timit-homework/v/\"+\"v\"+audio_type+file_no+\".wav\"\n",
        "#         s, sr = librosa.load(file_name, sr=None)\n",
        "#         S = librosa.stft(s, n_fft=1024, hop_length=512)\n",
        "         \n",
        "#         validation_files[\"org\"][audio_type].append(S.T) # S.shape => (x, 513)\n",
        "        \n",
        "#         S_mod = np.abs(S.T) # S_mod.shape => (x, 513)\n",
        "#         validation_files[\"abs\"][audio_type].append(S_mod)"
      ],
      "execution_count": 0,
      "outputs": []
    },
    {
      "cell_type": "code",
      "metadata": {
        "id": "Dv664Smapeum",
        "colab_type": "code",
        "colab": {}
      },
      "source": [
        "# # Store data in a pickle file\n",
        "# with open('validation_audiofiles.pickle', 'wb') as handle:\n",
        "#     pickle.dump(validation_files, handle)\n",
        "\n",
        "# # Copy the pickle file to Drive for backup purposes\n",
        "# !cp \"validation_audiofiles.pickle\" \"/content/drive/My Drive/Deep Learning/Hw3/validation_audiofiles.pickle\""
      ],
      "execution_count": 0,
      "outputs": []
    },
    {
      "cell_type": "markdown",
      "metadata": {
        "id": "1dJgA-6M1YI3",
        "colab_type": "text"
      },
      "source": [
        "#### All the above steps were to process the audio files and store it into a pickle file. This will save our time required to upload these files and process them every time we want to execute this code."
      ]
    },
    {
      "cell_type": "code",
      "metadata": {
        "id": "4fyDbbQMdOF4",
        "colab_type": "code",
        "colab": {}
      },
      "source": [
        "!cp \"/content/drive/My Drive/Deep Learning/Hw3/train_audiofiles.pickle\" \"train_audiofiles.pickle\"\n",
        "!cp \"/content/drive/My Drive/Deep Learning/Hw3/validation_audiofiles.pickle\" \"validation_audiofiles.pickle\"\n",
        "\n",
        "# Load data from the pickle file\n",
        "with open('train_audiofiles.pickle', 'rb') as handle:\n",
        "    training_files = pickle.load(handle)\n",
        "    \n",
        "with open('validation_audiofiles.pickle', 'rb') as handle:\n",
        "    validation_files = pickle.load(handle)"
      ],
      "execution_count": 0,
      "outputs": []
    },
    {
      "cell_type": "code",
      "metadata": {
        "id": "D8MZAIjhOfLX",
        "colab_type": "code",
        "colab": {}
      },
      "source": [
        "# Training IBMs\n",
        "train_ibm = [(training_files[\"abs\"][\"s\"][i] > training_files[\"abs\"][\"n\"][i])*1 for i in range(1200)]\n",
        "val_ibm = [(validation_files[\"abs\"][\"s\"][i] > validation_files[\"abs\"][\"n\"][i])*1 for i in range(1200)]"
      ],
      "execution_count": 0,
      "outputs": []
    },
    {
      "cell_type": "code",
      "metadata": {
        "id": "2pThR0XY14Js",
        "colab_type": "code",
        "colab": {}
      },
      "source": [
        "class miniBatch():\n",
        "    '''\n",
        "    Create mini Batches of the data for training the model\n",
        "    In our case, we are making the default batch size as 10\n",
        "    The reason being, 10 continous audio files have same dimensions\n",
        "    For eg: the first 10 audio files have the dimension 65x513\n",
        "    \n",
        "    This helps in creating a 3D tensor (For eg: 10x65x513)\n",
        "    \n",
        "    '''\n",
        "    def __init__(self,x,s,batch_size=10):\n",
        "        self.x = x\n",
        "        self.s = s\n",
        "\n",
        "        self.rows = len(x)\n",
        "        self.batch_size = batch_size\n",
        "        self.curr_index = 0\n",
        "\n",
        "        # Total number of iterations\n",
        "        self.iters = math.ceil(self.rows/self.batch_size)\n",
        "        pass\n",
        "\n",
        "\n",
        "    def nextBatch(self):\n",
        "        '''\n",
        "        Return the next batch of data\n",
        "        If the last batch is not of the batch size, give all the remaining elements\n",
        "        '''\n",
        "\n",
        "        if self.curr_index + self.batch_size >= self.rows:\n",
        "            batch_x = self.x[self.curr_index:]\n",
        "            batch_y = self.s[self.curr_index:]\n",
        "        else:\n",
        "            batch_x = self.x[self.curr_index:self.curr_index+self.batch_size]\n",
        "            batch_y = self.s[self.curr_index:self.curr_index+self.batch_size]\n",
        "\n",
        "        self.curr_index = self.curr_index+self.batch_size\n",
        "        return np.array(batch_x),np.array(batch_y)\n",
        "\n",
        "\n",
        "    \n",
        "def crossValSet(x,y,size):\n",
        "    '''\n",
        "    Size will be in percent\n",
        "    Remove \"size\"% of data from the last as keep it for CV  \n",
        "    '''\n",
        "    no_of_elements = math.ceil(len(x)*(size/100))\n",
        "\n",
        "    train_x = x[:-no_of_elements]\n",
        "    train_y = y[:-no_of_elements]\n",
        "\n",
        "    cv_x = x[-no_of_elements:]\n",
        "    cv_y = y[-no_of_elements:]    \n",
        "    return train_x,train_y,cv_x,cv_y\n",
        "\n",
        "\n",
        "def calcSNR(s_pred_td,s_true_td):\n",
        "    '''\n",
        "    If the length of the two spectrograms is not equal, slice them with the \n",
        "    minimum of the two. \n",
        "    SNR = 10*log10(signal/noise)\n",
        "    '''\n",
        "    if s_pred_td.shape[0] != s_true_td.shape[0]:\n",
        "        min_length = min(s_pred_td.shape[0],s_true_td.shape[0])\n",
        "        s_pred_td = s_pred_td[:min_length]\n",
        "        s_true_td = s_true_td[:min_length]\n",
        "\n",
        "    signal = np.sum(np.square(s_true_td))\n",
        "    noise = np.sum(np.square(s_true_td - s_pred_td))\n",
        "\n",
        "    snr = 10 * np.log10(signal/noise)\n",
        "\n",
        "    return snr\n",
        "\n",
        "\n",
        "def feedForward(X):\n",
        "    m_output = []\n",
        "    \n",
        "    # Run a feedforward on the validation data\n",
        "    for i in range(len(X)):\n",
        "        input_x = X[i].reshape(1,-1,513)\n",
        "        network_output = sess.run(y_pred, feed_dict={x: input_x})\n",
        "        m_output.append(network_output.reshape(-1,513))\n",
        "    return m_output\n",
        "\n",
        "\n",
        "def getLoss(X,y):\n",
        "    # Run a feedforward to get the loss of the objective function\n",
        "    error = 0\n",
        "    mini_batch = miniBatch(X,y)\n",
        "    \n",
        "    for iter in range(mini_batch.iters):\n",
        "        batch_x,batch_y = mini_batch.nextBatch()\n",
        "        error += sess.run(loss, feed_dict={x: batch_x, y_true: batch_y}) \n",
        "    return error\n",
        "\n",
        "\n",
        "def transform_input(x):\n",
        "    return x.reshape((1,-1,513))\n",
        "\n",
        "def reverse_transform(x):\n",
        "    return x.reshape((-1,513))"
      ],
      "execution_count": 0,
      "outputs": []
    },
    {
      "cell_type": "code",
      "metadata": {
        "id": "XLL7CGS520Eu",
        "colab_type": "code",
        "colab": {}
      },
      "source": [
        "# hidden LSTM units\n",
        "hidden_units = 513\n",
        "\n",
        "# learning rate for AdamOptimizer\n",
        "learning_rate = 0.001\n",
        "\n",
        "# Hyperparamters for the network\n",
        "epochs = 50"
      ],
      "execution_count": 0,
      "outputs": []
    },
    {
      "cell_type": "code",
      "metadata": {
        "id": "YwGhfkgHvXOY",
        "colab_type": "code",
        "colab": {}
      },
      "source": [
        "tf.reset_default_graph()\n",
        "\n",
        "# Create placeholders for input X and labels y\n",
        "x = tf.placeholder(tf.float32, [None,None,513])\n",
        "y_true = tf.placeholder(tf.float32, [None,None,513])\n",
        "\n",
        "# defining the network   \n",
        "lstm_cell = tf.contrib.rnn.LSTMCell(num_units = hidden_units,\n",
        "                                    initializer = tf.contrib.layers.variance_scaling_initializer())\n",
        "    \n",
        "lstm_dropout = tf.contrib.rnn.DropoutWrapper(lstm_cell,\n",
        "                                             input_keep_prob=0.95, \n",
        "                                             output_keep_prob=0.95)\n",
        "\n",
        "lstm_layers = tf.contrib.rnn.MultiRNNCell([lstm_dropout])\n",
        "\n",
        "\n",
        "network_output, state = tf.nn.dynamic_rnn(cell = lstm_layers,\n",
        "                                          inputs = x,\n",
        "                                          dtype=\"float32\")\n",
        "\n",
        "\n",
        "# converting last output of dimension [batch_size,num_units] to [batch_size,n_classes] by out_weight multiplication\n",
        "y_pred = tf.layers.dense(inputs = network_output, \n",
        "                         units = 513, \n",
        "                         kernel_initializer = tf.contrib.layers.variance_scaling_initializer(),\n",
        "                         activation = tf.nn.sigmoid,\n",
        "                         bias_initializer = tf.zeros_initializer())\n",
        "\n",
        "\n",
        "# loss_function\n",
        "loss = tf.losses.mean_squared_error(y_pred, y_true)\n",
        "\n",
        "# optimization\n",
        "train_step = tf.train.AdamOptimizer(learning_rate=learning_rate).minimize(loss)\n",
        "\n",
        "### Start the session\n",
        "sess = tf.InteractiveSession()\n",
        "tf.global_variables_initializer().run()\n",
        "\n",
        "\n",
        "# Training data and labels for validation\n",
        "val_x = validation_files[\"abs\"][\"x\"]  # shape => (1200,x,513)\n",
        "val_y = val_ibm  # shape => (1200,x,513)\n",
        "\n",
        "# Test the model on validation files after each epoch\n",
        "cv_errors = []\n",
        "\n",
        "# ====== Training the network ======  \n",
        "for e in range(epochs):\n",
        "    # Create minibatches and train data on it\n",
        "    train_x = training_files[\"abs\"][\"x\"]\n",
        "    train_m = train_ibm\n",
        "    mini_batch = miniBatch(train_x,train_m)\n",
        "    \n",
        "    for iter in range(mini_batch.iters):\n",
        "        batch_x,batch_y = mini_batch.nextBatch()\n",
        "        sess.run(train_step, feed_dict={x: batch_x, y_true: batch_y})\n",
        "    \n",
        "    if e%5==0:\n",
        "        cv_errors.append(getLoss(val_x,val_y))"
      ],
      "execution_count": 0,
      "outputs": []
    },
    {
      "cell_type": "code",
      "metadata": {
        "id": "Gm45rTDtnTPr",
        "colab_type": "code",
        "colab": {}
      },
      "source": [
        "m_output = feedForward(val_x) # shape => (1200,x,513)\n",
        "    \n",
        "# Thresholding the m_output at 0.5\n",
        "m_output = [(m_output[i]>=0.5)*1 for i in range(len(m_output))]"
      ],
      "execution_count": 0,
      "outputs": []
    },
    {
      "cell_type": "code",
      "metadata": {
        "id": "kcTcIQxQz0hS",
        "colab_type": "code",
        "colab": {}
      },
      "source": [
        "# Calculated mean SNR for all the validation files\n",
        "def convertToaudio(masks,X,test=False):\n",
        "    '''\n",
        "    We calculated the M matrix for the dirty noise. The M matrix is \"Ideal binary\n",
        "    masks\".\n",
        "    \n",
        "    IBM assumes that at each of the time-frequency bin at (f,t) in our X matrix\n",
        "    is either noise or speech(clean). It generates a matrix with same dimensions \n",
        "    as X that has 1 or 0 in it. (0 meaning noise)\n",
        "    \n",
        "    After taking element wise product of X and M, all the points that had IBM 0 \n",
        "    would be deactivated and we would only have clean speech\n",
        "    '''\n",
        "    assert(len(masks) == len(X))\n",
        "    istft_output = []\n",
        "    \n",
        "    for i in range(len(X)):\n",
        "        output = masks[i] * X[i]\n",
        "        istft = librosa.istft(output.T, hop_length=512, win_length=1024)\n",
        "        istft_output.append(istft)\n",
        "        \n",
        "        file_no = str(1000000 + i)[-4:]\n",
        "        \n",
        "        if test:\n",
        "            librosa.output.write_wav('Test_output/tes_'+file_no+'.wav', istft, sr=16000)\n",
        "        else:\n",
        "            librosa.output.write_wav('validation_'+str(i)+'.wav', istft, sr=16000)    \n",
        "    \n",
        "    return istft_output\n"
      ],
      "execution_count": 0,
      "outputs": []
    },
    {
      "cell_type": "code",
      "metadata": {
        "id": "BGHD_hI4y_dq",
        "colab_type": "code",
        "colab": {}
      },
      "source": [
        "istft_output = convertToaudio(m_output,validation_files[\"org\"][\"x\"])"
      ],
      "execution_count": 0,
      "outputs": []
    },
    {
      "cell_type": "code",
      "metadata": {
        "id": "07e7xlHrXIOf",
        "colab_type": "code",
        "outputId": "bae908db-db8a-4a5e-a11c-934a6bb0270f",
        "colab": {
          "base_uri": "https://localhost:8080/",
          "height": 34
        }
      },
      "source": [
        "def meanSNR(recovered_audio):\n",
        "    '''\n",
        "    To calculate the mean SNR for all the validation files, we require the ground\n",
        "    truth label of the clean source for all these files.\n",
        "    Now, because the \n",
        "    '''\n",
        "    snrs = []\n",
        "    for i in range(len(recovered_audio)):\n",
        "        if i%10 == 0:\n",
        "            file_no = str(1000000 + i)[-4:]\n",
        "            file_name = \"timit-homework/v/\"+\"vs\"+file_no+\".wav\"\n",
        "            s, sr = librosa.load(file_name, sr=None)\n",
        "\n",
        "        snrs.append(calcSNR(recovered_audio[i],s))\n",
        "\n",
        "    return np.mean(snrs),snrs\n",
        "\n",
        "mean_snr,snrs = meanSNR(istft_output)\n",
        "print(\"The mean SNR for all the validation files is: \"+str(round(mean_snr,2)))"
      ],
      "execution_count": 0,
      "outputs": [
        {
          "output_type": "stream",
          "text": [
            "The mean SNR for all the validation files is: 10.38\n"
          ],
          "name": "stdout"
        }
      ]
    },
    {
      "cell_type": "code",
      "metadata": {
        "id": "o0XcdtNYOnFD",
        "colab_type": "code",
        "outputId": "fdf28c08-4e6c-4254-ff21-ced6c5388dc2",
        "colab": {
          "base_uri": "https://localhost:8080/",
          "height": 376
        }
      },
      "source": [
        "histogram = sns.distplot(snrs)\n",
        "histogram.set_title(\"Distrbution of SNR for all the validation files\")\n",
        "histogram.set_xlabel(\"SNR\")\n",
        "plt.show()"
      ],
      "execution_count": 0,
      "outputs": [
        {
          "output_type": "display_data",
          "data": {
            "image/png": "[encoded data removed]",
            "text/plain": [
              "<Figure size 576x396 with 1 Axes>"
            ]
          },
          "metadata": {
            "tags": []
          }
        }
      ]
    },
    {
      "cell_type": "code",
      "metadata": {
        "id": "WWfMUGoH3dmH",
        "colab_type": "code",
        "outputId": "bebe5500-b87f-42bb-8656-42e1e730db67",
        "colab": {
          "base_uri": "https://localhost:8080/",
          "height": 378
        }
      },
      "source": [
        "def error_plot(errors):\n",
        "    plt.plot(errors)\n",
        "    plt.ylabel(\"MSE (validation)\")\n",
        "    plt.xlabel(\"# of Epochs\")\n",
        "    plt.show()\n",
        "\n",
        "    return errors[-1]\n",
        "\n",
        "error_plot(cv_errors)\n",
        "print(\"Mean squared error for the last iteration (on Validation set): \" + str(round(cv_errors[-1],3)))  "
      ],
      "execution_count": 0,
      "outputs": [
        {
          "output_type": "display_data",
          "data": {
            "image/png": "[encoded data removed]",
            "text/plain": [
              "<Figure size 576x396 with 1 Axes>"
            ]
          },
          "metadata": {
            "tags": []
          }
        },
        {
          "output_type": "stream",
          "text": [
            "Mean squared error for the last iteration (on Validation set): 15.36\n"
          ],
          "name": "stdout"
        }
      ]
    },
    {
      "cell_type": "markdown",
      "metadata": {
        "id": "EzHnuY3oTYZk",
        "colab_type": "text"
      },
      "source": [
        "## Testing the network\n",
        "\n",
        "Now that we have trained our model and are satisfied with the results on validation set. We'll move onto the testing phase.\n",
        "\n",
        "We are given 400 test files on which our network would be tested. We'll start by loading these files and processing them.\n"
      ]
    },
    {
      "cell_type": "code",
      "metadata": {
        "id": "Fttuay9bNYDY",
        "colab_type": "code",
        "colab": {}
      },
      "source": [
        "test_files = {\"abs\":{\"x\":[]},\"org\":{\"x\":[]}}\n",
        "\n",
        "for i in range(400):\n",
        "    file_no = str(1000000 + i)[-4:]\n",
        "    \n",
        "    file_name = \"timit-homework/te/\"+\"tex\"+file_no+\".wav\"\n",
        "    s, sr = librosa.load(file_name, sr=None)\n",
        "    S = librosa.stft(s, n_fft=1024, hop_length=512)\n",
        "    test_files[\"org\"][\"x\"].append(S.T) # S.shape => (x, 513)\n",
        "\n",
        "    S_mod = np.abs(S.T) # S_mod.shape => (x, 513)\n",
        "    test_files[\"abs\"][\"x\"].append(S_mod)"
      ],
      "execution_count": 0,
      "outputs": []
    },
    {
      "cell_type": "code",
      "metadata": {
        "id": "tfED6oEFoHdD",
        "colab_type": "code",
        "colab": {}
      },
      "source": [
        "test_x = test_files[\"abs\"][\"x\"]\n",
        "masks_test = feedForward(test_x) # shape => (400,x,513)\n",
        "    \n",
        "# Thresholding the m_output at 0.5\n",
        "masks_test = [(masks_test[i]>=0.5)*1 for i in range(len(masks_test))]"
      ],
      "execution_count": 0,
      "outputs": []
    },
    {
      "cell_type": "code",
      "metadata": {
        "id": "0eNDMKtwxt1F",
        "colab_type": "code",
        "colab": {}
      },
      "source": [
        "!mkdir \"Test_output\""
      ],
      "execution_count": 0,
      "outputs": []
    },
    {
      "cell_type": "code",
      "metadata": {
        "id": "j97F3ctJo-xy",
        "colab_type": "code",
        "colab": {}
      },
      "source": [
        "istft_output_test = convertToaudio(masks_test,test_files[\"org\"][\"x\"],test=True)"
      ],
      "execution_count": 0,
      "outputs": []
    },
    {
      "cell_type": "code",
      "metadata": {
        "id": "03qVPNarznMV",
        "colab_type": "code",
        "colab": {}
      },
      "source": [
        "!zip -r \"test_output.zip\" \"Test_output\"\n",
        "!cp \"test_output.zip\" \"/content/drive/My Drive/Deep Learning/Hw3/\""
      ],
      "execution_count": 0,
      "outputs": []
    },
    {
      "cell_type": "code",
      "metadata": {
        "id": "ilqjQ5eFL3GX",
        "colab_type": "code",
        "colab": {}
      },
      "source": [
        "sess.close()"
      ],
      "execution_count": 0,
      "outputs": []
    }
  ]
}