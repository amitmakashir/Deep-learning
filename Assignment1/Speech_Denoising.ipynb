{
  "nbformat": 4,
  "nbformat_minor": 0,
  "metadata": {
    "colab": {
      "name": "Speech Denoising",
      "provenance": [],
      "collapsed_sections": [],
      "include_colab_link": true
    },
    "kernelspec": {
      "name": "python3",
      "display_name": "Python 3"
    },
    "accelerator": "GPU"
  },
  "cells": [
    {
      "cell_type": "markdown",
      "metadata": {
        "id": "view-in-github",
        "colab_type": "text"
      },
      "source": [
        "<a href=\"https://colab.research.google.com/github/amitmakashir/Deep-learning/blob/master/Speech_Denoising.ipynb\" target=\"_parent\"><img src=\"https://colab.research.google.com/assets/colab-badge.svg\" alt=\"Open In Colab\"/></a>"
      ]
    },
    {
      "cell_type": "code",
      "metadata": {
        "id": "38lv9Af8fBGK",
        "colab_type": "code",
        "colab": {}
      },
      "source": [
        "import tensorflow as tf\n",
        "import random\n",
        "import pandas as pd\n",
        "import numpy as np\n",
        "import matplotlib.pyplot as plt\n",
        "import librosa\n",
        "\n",
        "import warnings\n",
        "warnings.filterwarnings('ignore')"
      ],
      "execution_count": 0,
      "outputs": []
    },
    {
      "cell_type": "markdown",
      "metadata": {
        "id": "9dPSyjSD4ucI",
        "colab_type": "text"
      },
      "source": [
        "#### If you wish to execute this notebook, please make sure to have the training and testing audio files in the same directory as this notebook."
      ]
    },
    {
      "cell_type": "code",
      "metadata": {
        "id": "2PiSaIobjKbl",
        "colab_type": "code",
        "outputId": "c2fab00b-5cc4-4652-a47d-88c99c70989f",
        "colab": {
          "base_uri": "https://localhost:8080/",
          "height": 34
        }
      },
      "source": [
        "# Training data\n",
        "\n",
        "s, sr=librosa.load('train_clean_male.wav', sr=None)\n",
        "S=librosa.stft(s, n_fft=1024, hop_length=512)\n",
        "sn, sr=librosa.load('train_dirty_male.wav', sr=None)\n",
        "X=librosa.stft(sn, n_fft=1024, hop_length=512)\n",
        "\n",
        "X_mod = np.abs(X.T)\n",
        "S_mod = np.abs(S.T)\n",
        "\n",
        "no_of_features = X_mod.shape[1]\n",
        "no_of_training_samples = X_mod.shape[0]\n",
        "print(X_mod.shape)"
      ],
      "execution_count": 0,
      "outputs": [
        {
          "output_type": "stream",
          "text": [
            "(2459, 513)\n"
          ],
          "name": "stdout"
        }
      ]
    },
    {
      "cell_type": "code",
      "metadata": {
        "id": "axa3ohtskbGa",
        "colab_type": "code",
        "outputId": "90f72ad6-8e02-45cb-d3de-12840606f5b5",
        "colab": {
          "base_uri": "https://localhost:8080/",
          "height": 34
        }
      },
      "source": [
        "# Testing data\n",
        "\n",
        "xt1, sr = librosa.load('test_x_01.wav', sr=None)\n",
        "X_test1 = librosa.stft(xt1, n_fft=1024, hop_length=512)\n",
        "xt2, sr = librosa.load('test_x_02.wav', sr=None)\n",
        "X_test2 = librosa.stft(xt2, n_fft=1024, hop_length=512)\n",
        "\n",
        "X_test1 = np.transpose(X_test1)\n",
        "X_test1_mod = np.abs(X_test1)\n",
        "\n",
        "X_test2 = np.transpose(X_test2)\n",
        "X_test2_mod = np.abs(X_test2)\n",
        "\n",
        "print(X_test1_mod.shape)"
      ],
      "execution_count": 0,
      "outputs": [
        {
          "output_type": "stream",
          "text": [
            "(142, 513)\n"
          ],
          "name": "stdout"
        }
      ]
    },
    {
      "cell_type": "code",
      "metadata": {
        "id": "-UmOdlzakk02",
        "colab_type": "code",
        "colab": {}
      },
      "source": [
        "# Network structure\n",
        "hidden_units = [1024,1024]\n",
        "output_nodes = S_mod.shape[1]\n",
        "input_nodes = X_mod.shape[1]\n",
        "\n",
        "# Hyperparameters\n",
        "learning_rate = 0.0002\n",
        "epochs = 300\n",
        "minibatch_size = 65\n",
        "num_iters = no_of_training_samples // minibatch_size"
      ],
      "execution_count": 0,
      "outputs": []
    },
    {
      "cell_type": "code",
      "metadata": {
        "id": "fuBPBlS3lcfM",
        "colab_type": "code",
        "colab": {}
      },
      "source": [
        "# Create placeholders for input X and labels y\n",
        "x = tf.placeholder(tf.float32, [None, input_nodes])\n",
        "y_true = tf.placeholder(tf.float32, [None, output_nodes])\n",
        "\n",
        "\n",
        "# Constructs a neural network with the specified inputs, outputs and hidden layers\n",
        "# hidden_units is a list containing hidden units at every hidden layer\n",
        "# the length of hidden_units list determines the no of hidden layers\n",
        "# the output_nodes determine the no of classes to be predicted\n",
        "# Currently use the \"He\" initialization for initializing the weights\n",
        "def construct_network(input_nodes, output_nodes, hidden_units):\n",
        "  no_of_hidden_layers = len(hidden_units)\n",
        "  W = []\n",
        "  b = []\n",
        "  \n",
        "  initializer = tf.contrib.layers.variance_scaling_initializer()\n",
        "  \n",
        "  for i in range(no_of_hidden_layers + 1):\n",
        "    if i == 0:   # First layer\n",
        "      w = tf.Variable(initializer([input_nodes, hidden_units[i]]), dtype=tf.float32)\n",
        "      bias = tf.Variable(tf.random_normal([hidden_units[i]]), dtype=tf.float32)\n",
        "      \n",
        "    elif i == no_of_hidden_layers:  # Last layer\n",
        "      w = tf.Variable(initializer([hidden_units[i-1], output_nodes]), dtype=tf.float32)\n",
        "      bias = tf.Variable(tf.random_normal([output_nodes]), dtype=tf.float32)\n",
        "      \n",
        "    else:  # Hidden layers\n",
        "      w = tf.Variable(initializer([hidden_units[i-1], hidden_units[i]]), dtype=tf.float32)\n",
        "      bias = tf.Variable(tf.random_normal([hidden_units[i]]), dtype=tf.float32)\n",
        "\n",
        "    W.append(w)\n",
        "    b.append(bias)\n",
        "  \n",
        "  return W,b\n",
        "\n",
        "\n",
        "# Once the network is constructed, pass the input X in the network.\n",
        "# Apply suitable activations in the hidden layers.\n",
        "# Don't apply any activations on the last layer in this function as this function\n",
        "# could be used for classification as well as regression problems\n",
        "def solve(x,W,b):\n",
        "  n = len(W)\n",
        "  y = []\n",
        "  \n",
        "  for i in range(n): # First layer\n",
        "    if i == 0:\n",
        "      y.append(tf.nn.relu(tf.matmul(x, W[i]) + b[i]))\n",
        "    \n",
        "    elif i == n-1: # Last layer\n",
        "      y.append(tf.matmul(y[i-1], W[i]) + b[i])\n",
        "    \n",
        "    else: # Hidden layers\n",
        "      y.append(tf.nn.relu(tf.matmul(y[i-1], W[i]) + b[i]))\n",
        "  \n",
        "  return y\n",
        "  \n",
        "\n",
        "  \n",
        "  \n",
        "  \n",
        "## Main program starts from here\n",
        "\n",
        "## Construct the network using the given configuration \n",
        "W,b = construct_network(input_nodes, output_nodes, hidden_units)  \n",
        "\n",
        "## \"y\" is the output of the network. Pass it through the relu function as we want only non-negative values\n",
        "y = solve(x,W,b)\n",
        "y_pred = tf.nn.relu(y[-1])\n",
        "  \n",
        "\n",
        "## Define the cost function to be optimized and the optimizer to be used  \n",
        "cost = tf.losses.mean_squared_error(y_pred, y_true)\n",
        "train_step = tf.train.AdamOptimizer(learning_rate).minimize(cost)\n",
        "\n",
        "### Start the session\n",
        "sess = tf.InteractiveSession()\n",
        "tf.global_variables_initializer().run()\n",
        "\n",
        "\n",
        "## Running the neural network\n",
        "errors = []\n",
        "for e in range(epochs):\n",
        "  i = 0\n",
        "  for iter in range(num_iters):\n",
        "    \n",
        "    if iter == num_iters - 1: # For the last iteration take the rest of the data\n",
        "      sess.run(train_step, feed_dict={x: X_mod[i:,:], y_true: S_mod[i:,:]})\n",
        "      errors.append(sess.run(cost, feed_dict={x: X_mod[i:i+minibatch_size,:], y_true: S_mod[i:i+minibatch_size,:]}))\n",
        "    \n",
        "    else: # For all the other iterations slice the data into batches\n",
        "      sess.run(train_step, feed_dict={x: X_mod[i:i+minibatch_size,:], y_true: S_mod[i:i+minibatch_size,:]})\n",
        "      errors.append(sess.run(cost, feed_dict={x: X_mod[i:i+minibatch_size,:], y_true: S_mod[i:i+minibatch_size,:]}))\n",
        "      i += minibatch_size\n",
        "\n",
        "  \n",
        "## Running a feedforward on the test samples\n",
        "s_test_1 = sess.run(y_pred,feed_dict={x: X_test1_mod})\n",
        "s_test_2 = sess.run(y_pred,feed_dict={x: X_test2_mod})\n",
        "\n",
        "# for calculating SNR\n",
        "y_train = sess.run(y_pred,feed_dict={x: X_mod})\n",
        "\n",
        "sess.close()"
      ],
      "execution_count": 0,
      "outputs": []
    },
    {
      "cell_type": "code",
      "metadata": {
        "id": "y5f4Ry1bAg0D",
        "colab_type": "code",
        "colab": {}
      },
      "source": [
        "# Convert the output of test sample 1 to wav file\n",
        "output_1 = (X_test1/X_test1_mod) * s_test_1\n",
        "output_istft_1 = librosa.istft(output_1.T, hop_length=512, win_length=1024)\n",
        "librosa.output.write_wav('test_s_01_recons.wav',output_istft_1, sr)"
      ],
      "execution_count": 0,
      "outputs": []
    },
    {
      "cell_type": "code",
      "metadata": {
        "id": "fN1evEGwM-LS",
        "colab_type": "code",
        "colab": {}
      },
      "source": [
        "# Convert the output of test sample 2 to wav file\n",
        "output_2 = (X_test2/X_test2_mod) * s_test_2\n",
        "output_istft_2 = librosa.istft(output_2.T, hop_length=512, win_length=1024)\n",
        "librosa.output.write_wav('test_s_02_recons.wav', output_istft_2, sr)"
      ],
      "execution_count": 0,
      "outputs": []
    },
    {
      "cell_type": "code",
      "metadata": {
        "id": "6esBOs02QfKA",
        "colab_type": "code",
        "outputId": "e31c9122-5832-4689-bddf-b9785fdf459e",
        "colab": {
          "base_uri": "https://localhost:8080/",
          "height": 364
        }
      },
      "source": [
        "def error_plot(errors,no_of_points):\n",
        "  step = len(errors) // no_of_points\n",
        "  \n",
        "  err = [errors[i] for i in range(step,len(errors),step)]\n",
        "  \n",
        "  plt.plot(err)\n",
        "  plt.ylabel(\"MSE\")\n",
        "  plt.show()\n",
        "  \n",
        "  return errors[-1]\n",
        "\n",
        "error_plot(errors,30)\n",
        "print(\"Mean squared error for the last iteration: \" + str(errors[-1]))  "
      ],
      "execution_count": 0,
      "outputs": [
        {
          "output_type": "display_data",
          "data": {
            "image/png": "[encoded data removed]",
            "text/plain": [
              "<Figure size 576x396 with 1 Axes>"
            ]
          },
          "metadata": {
            "tags": []
          }
        },
        {
          "output_type": "stream",
          "text": [
            "Mean squared error for the last iteration: 0.0030042797\n"
          ],
          "name": "stdout"
        }
      ]
    },
    {
      "cell_type": "code",
      "metadata": {
        "id": "eFHrLk7r3Qqv",
        "colab_type": "code",
        "colab": {}
      },
      "source": [
        ""
      ],
      "execution_count": 0,
      "outputs": []
    },
    {
      "cell_type": "code",
      "metadata": {
        "id": "M93GgtHBQsff",
        "colab_type": "code",
        "outputId": "3ab390e5-a2ed-42b9-b442-f4f08fb8090c",
        "colab": {
          "base_uri": "https://localhost:8080/",
          "height": 34
        }
      },
      "source": [
        "# y_train is the output of network\n",
        "s_train_pred = (X.T/X_mod)*y_train\n",
        "s_train = librosa.istft(s_train_pred.T, hop_length=512, win_length=1024)   \n",
        "len_s = s_train.shape[0]\n",
        "\n",
        "\n",
        "def calcSNR(s_pred_td,s_true_td):\n",
        "      if s_pred_td.shape[0] != s_true_td.shape[0]:\n",
        "        min_length = min(s_pred_td.shape[0],s_true_td.shape[0])\n",
        "        s_pred_td = s_pred_td[:min_length]\n",
        "        s_true_td = s_true_td[:min_length]\n",
        "      \n",
        "      signal = np.sum(np.square(s_true_td))\n",
        "      noise = np.sum(np.square(s_true_td - s_pred_td))\n",
        "      \n",
        "      snr = 10 * np.log10(signal/noise)\n",
        "      \n",
        "      return snr\n",
        "    \n",
        "print(\"SNR for the training audio file: \" + str(calcSNR(s_train,s)))"
      ],
      "execution_count": 0,
      "outputs": [
        {
          "output_type": "stream",
          "text": [
            "SNR for the training audio file: 10.579631328582764\n"
          ],
          "name": "stdout"
        }
      ]
    }
  ]
}