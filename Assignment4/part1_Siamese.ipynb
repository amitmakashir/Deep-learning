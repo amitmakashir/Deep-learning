{
  "nbformat": 4,
  "nbformat_minor": 0,
  "metadata": {
    "colab": {
      "name": "part1-Siamese.ipynb",
      "provenance": [],
      "collapsed_sections": [],
      "include_colab_link": true
    },
    "kernelspec": {
      "name": "python3",
      "display_name": "Python 3"
    },
    "accelerator": "GPU"
  },
  "cells": [
    {
      "cell_type": "markdown",
      "metadata": {
        "id": "view-in-github",
        "colab_type": "text"
      },
      "source": [
        "<a href=\"https://colab.research.google.com/github/amitmakashir/Deep-learning/blob/master/part1_Siamese.ipynb\" target=\"_parent\"><img src=\"https://colab.research.google.com/assets/colab-badge.svg\" alt=\"Open In Colab\"/></a>"
      ]
    },
    {
      "cell_type": "code",
      "metadata": {
        "id": "UK68PXsEqKWk",
        "colab_type": "code",
        "colab": {}
      },
      "source": [
        "import tensorflow as tf\n",
        "import random\n",
        "import pandas as pd\n",
        "import numpy as np\n",
        "import matplotlib.pyplot as plt\n",
        "import librosa\n",
        "import math\n",
        "import pandas\n",
        "import pickle\n",
        "import seaborn as sns\n",
        "import itertools\n",
        "\n",
        "sns.set(color_codes=True)\n",
        "\n",
        "import warnings\n",
        "warnings.filterwarnings('ignore')"
      ],
      "execution_count": 0,
      "outputs": []
    },
    {
      "cell_type": "code",
      "metadata": {
        "id": "gy9ZramZrBpx",
        "colab_type": "code",
        "colab": {}
      },
      "source": [
        "# These files are output of stft.load()\n",
        "\n",
        "with open('hw4_trs.pkl', 'rb') as handle:\n",
        "    trs = pickle.load(handle)\n",
        "    \n",
        "with open('hw4_tes.pkl', 'rb') as handle:\n",
        "    tes = pickle.load(handle)"
      ],
      "execution_count": 0,
      "outputs": []
    },
    {
      "cell_type": "code",
      "metadata": {
        "id": "YIYHwJ_zszsd",
        "colab_type": "code",
        "outputId": "29a0a82a-74c8-4c48-c7c1-ba059e39c0af",
        "colab": {
          "base_uri": "https://localhost:8080/",
          "height": 51
        }
      },
      "source": [
        "print(trs.shape)\n",
        "print(tes.shape)"
      ],
      "execution_count": 0,
      "outputs": [
        {
          "output_type": "stream",
          "text": [
            "(500, 16180)\n",
            "(200, 22631)\n"
          ],
          "name": "stdout"
        }
      ]
    },
    {
      "cell_type": "code",
      "metadata": {
        "id": "9j3T0avit5PK",
        "colab_type": "code",
        "colab": {}
      },
      "source": [
        "trs_stft = []\n",
        "tes_stft = []\n",
        "\n",
        "# STFT on training files\n",
        "for i in range(trs.shape[0]):\n",
        "    trs_op = librosa.stft(trs[i], n_fft=1024, hop_length=512)\n",
        "    trs_stft.append(np.abs(trs_op.T))\n",
        "    \n",
        "# STFT on test files\n",
        "for i in range(tes.shape[0]):\n",
        "    tes_op = librosa.stft(tes[i], n_fft=1024, hop_length=512)\n",
        "    tes_stft.append(np.abs(tes_op.T))\n",
        "\n",
        "trs_stft = np.array(trs_stft)\n",
        "tes_stft = np.array(tes_stft)"
      ],
      "execution_count": 0,
      "outputs": []
    },
    {
      "cell_type": "code",
      "metadata": {
        "id": "Fmq4jrLEwZRk",
        "colab_type": "code",
        "colab": {}
      },
      "source": [
        "class miniBatch():\n",
        "    '''\n",
        "    Create mini Batches of the data for training the model\n",
        "    In our case, we are making the default batch size as 90    \n",
        "    \n",
        "    '''\n",
        "    def __init__(self,x,batch_size=90):\n",
        "        self.x = x\n",
        "\n",
        "        self.rows = len(x)\n",
        "        self.batch_size = batch_size\n",
        "        self.curr_index = 0\n",
        "\n",
        "        # Total number of iterations\n",
        "        # As every speaker has 10 clips we divide to the total clips by 10\n",
        "        # to get the # of speakers\n",
        "        self.iters = self.x.shape[0]//10\n",
        "        pass\n",
        "\n",
        "\n",
        "    def nextBatch(self):\n",
        "        '''\n",
        "        In each minibatch there are 2L pairs of utterances\n",
        "        L => positive (both from same speaker)\n",
        "        L => negative (different speaker)\n",
        "        \n",
        "        In our case, 2L = 90 (default)\n",
        "        So we sample 45 pairs from first speaker as + examples\n",
        "        And 45 pairs of first and other speaker as - examples\n",
        "        Return the next batch of data        \n",
        "        '''\n",
        "        curr_index = self.curr_index\n",
        "        \n",
        "        # Generate a sequence of all the indices (len of training/test data)\n",
        "        all_idxs = np.array([i for i in range(self.rows)]) \n",
        "        \n",
        "        # Delete indices of the current speaker and call it other speaker\n",
        "        other_idxs = np.delete(all_idxs,range(curr_index,curr_index+10))\n",
        "        \n",
        "        # Positive samples\n",
        "        positive_comb = list(itertools.combinations(range(curr_index,curr_index+10),2))\n",
        "        \n",
        "        # positive_idxs.shape => (90,2) \n",
        "        positive_idxs = np.array([[i_tup[0],i_tup[1]] for i_tup in positive_comb])\n",
        "        \n",
        "        # Negative samples    \n",
        "        # a and b are indices\n",
        "        # a is sampled from the current speaker\n",
        "        # b is sampled from the other speakers\n",
        "        a_idxs = np.random.choice(range(curr_index,curr_index+10), self.batch_size//2, replace=True)  \n",
        "        b_idxs = np.random.choice(other_idxs, self.batch_size//2, replace=False)\n",
        "        \n",
        "        # a_idxs.shape => (90,) \n",
        "        # After reshape => (90,1); this helps in concatenating by columns\n",
        "        # Same goes for b\n",
        "        a_idxs = np.reshape(a_idxs,(self.batch_size//2,1))\n",
        "        b_idxs = np.reshape(b_idxs,(self.batch_size//2,1))\n",
        "\n",
        "        negative_idxs = np.concatenate((a_idxs,b_idxs),axis=1) # negative.shape => (2,batchsize/2)\n",
        "        \n",
        "        # Combining + and - samples\n",
        "        final_idxs = np.concatenate((positive_idxs,negative_idxs),axis=0)\n",
        "        \n",
        "        # Slice into two parts as every row has two elements\n",
        "        # Pass each column into a network \n",
        "        left = final_idxs[:,0]\n",
        "        right = final_idxs[:,1]\n",
        "        \n",
        "        self.curr_index = curr_index + 10 \n",
        "        \n",
        "        # The first half is positive examples and second half is negative\n",
        "        # Create a y (label) array accordingly\n",
        "        y_positive = np.ones(self.batch_size//2)\n",
        "        y_negative = np.zeros(self.batch_size//2)\n",
        "        y = np.concatenate((y_positive,y_negative),axis=0)\n",
        "        \n",
        "        return self.x[left],self.x[right], y \n",
        "        "
      ],
      "execution_count": 0,
      "outputs": []
    },
    {
      "cell_type": "markdown",
      "metadata": {
        "id": "SuYKvbBZh4Vt",
        "colab_type": "text"
      },
      "source": [
        "## Training"
      ]
    },
    {
      "cell_type": "code",
      "metadata": {
        "id": "InknYV2s4zRc",
        "colab_type": "code",
        "colab": {}
      },
      "source": [
        "learning_rate = 0.003 \n",
        "epochs = 120 "
      ],
      "execution_count": 0,
      "outputs": []
    },
    {
      "cell_type": "code",
      "metadata": {
        "id": "s-5Dw7lz6UhT",
        "colab_type": "code",
        "colab": {}
      },
      "source": [
        "tf.reset_default_graph()\n",
        "\n",
        "# Create placeholders for input X and labels y\n",
        "x_left = tf.placeholder(tf.float32, [None,None,513])\n",
        "x_right = tf.placeholder(tf.float32, [None,None,513])\n",
        "y_true = tf.placeholder(tf.float32, [None])\n",
        "\n",
        "# defining the network   \n",
        "def model(x,reuse=False):\n",
        "    hidden_units_1 = 256\n",
        "    hidden_units_2 = 128\n",
        "    hidden_units_3 = 128\n",
        "    \n",
        "    initializer = tf.contrib.layers.xavier_initializer()\n",
        "    \n",
        "    rnn_cell_1 = tf.contrib.rnn.GRUCell(num_units = hidden_units_1,\n",
        "                                        kernel_initializer = initializer,\n",
        "                                        name = \"rnn1\",\n",
        "                                       reuse=reuse)\n",
        "\n",
        "    rnn_dropout_1 = tf.contrib.rnn.DropoutWrapper(rnn_cell_1,\n",
        "                                                 input_keep_prob=0.90, \n",
        "                                                 output_keep_prob=0.90)\n",
        "    \n",
        "    rnn_cell_2 = tf.contrib.rnn.GRUCell(num_units = hidden_units_2,\n",
        "                                        kernel_initializer = initializer,\n",
        "                                        name = \"rnn2\",\n",
        "                                       reuse=reuse)\n",
        "\n",
        "    rnn_dropout_2 = tf.contrib.rnn.DropoutWrapper(rnn_cell_2,\n",
        "                                                 input_keep_prob=0.90, \n",
        "                                                 output_keep_prob=0.90)\n",
        "    \n",
        "    rnn_cell_3 = tf.contrib.rnn.GRUCell(num_units = hidden_units_3,\n",
        "                                        kernel_initializer = initializer,\n",
        "                                        name = \"rnn3\",\n",
        "                                       reuse=reuse)\n",
        "\n",
        "    rnn_dropout_3 = tf.contrib.rnn.DropoutWrapper(rnn_cell_3,\n",
        "                                                 input_keep_prob=0.95, \n",
        "                                                 output_keep_prob=0.90)\n",
        "    \n",
        "    lstm_layers = tf.contrib.rnn.MultiRNNCell([rnn_dropout_1,rnn_dropout_2])\n",
        "    \n",
        "\n",
        "    network_output, state = tf.nn.dynamic_rnn(cell = lstm_layers,\n",
        "                                              inputs = x,\n",
        "                                              dtype=\"float32\")\n",
        "    \n",
        "    # converting last output of dimension [batch_size,num_units] to [batch_size,n_classes] by out_weight multiplication\n",
        "    y_slast = tf.layers.dense(inputs = network_output, \n",
        "                                 units = 10, \n",
        "                                 kernel_initializer = initializer,\n",
        "                                 activation = tf.nn.leaky_relu,\n",
        "                                 bias_initializer = tf.zeros_initializer(),\n",
        "                              name=\"dense1\",\n",
        "                                reuse=reuse)\n",
        "    \n",
        "    dropout_layer = tf.layers.dropout(y_slast,\n",
        "                      rate=0.1\n",
        "                     )\n",
        "    \n",
        "    y_network_output = tf.layers.dense(inputs = y_slast, \n",
        "                                     units = 20, \n",
        "                                     kernel_initializer = initializer,\n",
        "                                     activation = tf.nn.leaky_relu,\n",
        "                                     bias_initializer = tf.zeros_initializer(),\n",
        "                                    name=\"dense2\",\n",
        "                                    reuse=reuse)\n",
        "    \n",
        "    dropout_layer = tf.layers.dropout(y_network_output,\n",
        "                      rate=0.1\n",
        "                     )\n",
        "\n",
        "#     The output will be of the shape: (batch,100)\n",
        "    return tf.layers.flatten(y_network_output)\n",
        "\n",
        "\n",
        "\n",
        "# Get a fixed length vector from the network\n",
        "vec_left = model(x_left)\n",
        "vec_right = model(x_right,reuse=True)\n",
        "\n",
        "\n",
        "# vec_left and vec_right are 3d tensors with shape (batch,Timestamp,513)\n",
        "# We want to reduce it to a tensor with shape (batch)\n",
        "# We first take elementwise multiplication of the two tensors (left and right)\n",
        "# We call reduce_sum with axis=1 (timestamp) so it collapse rows in that matrix\n",
        "# After the inner product of these two vectors (for each data point) you'll have a scalar\n",
        "# Apply sigmoid on it to get a label\n",
        "vec_prod = tf.multiply(vec_left,vec_right) \n",
        "\n",
        "vec_sum = tf.reduce_sum(vec_prod, axis=1)\n",
        "\n",
        "y_pred_sigmoid = tf.math.sigmoid(vec_sum)  # This will the output for feedforward\n",
        "y_pred = vec_sum  # We will use this for further calculations (loss function)\n",
        "\n",
        "# Contrastive loss_function\n",
        "# loss_func = -(tf.multiply(y_true,tf.log(y_pred+ (10**-9))) + tf.multiply(1 - y_true,tf.log(1 - y_pred + (10**-9))))\n",
        "loss_func = tf.nn.sigmoid_cross_entropy_with_logits(labels=y_true,logits=y_pred)\n",
        "loss = tf.reduce_mean(loss_func)\n",
        "\n",
        "# optimization\n",
        "train_step = tf.train.AdamOptimizer(learning_rate=learning_rate).minimize(loss)\n",
        "\n",
        "### Start the session\n",
        "sess = tf.InteractiveSession()\n",
        "# train_writer = tf.summary.FileWriter(LOG_DIR, sess.graph)\n",
        "tf.global_variables_initializer().run()\n",
        "\n",
        "\n",
        "# Create a mini-batch from the test audio files\n",
        "# Test the network on this batch after every epoch\n",
        "# Record this loss\n",
        "test_mini_batch = miniBatch(tes_stft)\n",
        "test_left,test_right,test_y = test_mini_batch.nextBatch()\n",
        "\n",
        "test_loss = []\n",
        "train_loss = []\n",
        "\n",
        "# ============  Training the network ============ #  \n",
        "for e in range(epochs):\n",
        "    # Create minibatches and train data on it\n",
        "    mini_batch = miniBatch(trs_stft)\n",
        "    \n",
        "    for iter in range(mini_batch.iters):\n",
        "        left,right,y = mini_batch.nextBatch()\n",
        "        _,trs_loss = sess.run([train_step,loss], feed_dict={x_left:left,x_right:right, y_true: y})\n",
        "        train_loss.append(trs_loss)\n",
        "    test_loss.append(sess.run(loss, feed_dict={x_left:test_left,x_right:test_right, y_true: test_y}))"
      ],
      "execution_count": 0,
      "outputs": []
    },
    {
      "cell_type": "code",
      "metadata": {
        "id": "gAk01eupcUXn",
        "colab_type": "code",
        "outputId": "b4374b67-57d3-4d88-bd56-d75033190bc6",
        "colab": {
          "base_uri": "https://localhost:8080/",
          "height": 318
        }
      },
      "source": [
        "# Plotting the train loss\n",
        "sns.set_style(\"darkgrid\")\n",
        "plt.plot(train_loss[::20])\n",
        "plt.xlabel(\"# of Iterations\")\n",
        "plt.ylabel(\"loss\")\n",
        "plt.title(\"Training loss\")\n",
        "plt.show()\n",
        "print(\"Final training loss: \",str(train_loss[-1]))"
      ],
      "execution_count": 0,
      "outputs": [
        {
          "output_type": "display_data",
          "data": {
            "image/png": "[encoded data removed]",
            "text/plain": [
              "<Figure size 432x288 with 1 Axes>"
            ]
          },
          "metadata": {
            "tags": []
          }
        },
        {
          "output_type": "stream",
          "text": [
            "Final training loss:  0.61878216\n"
          ],
          "name": "stdout"
        }
      ]
    },
    {
      "cell_type": "code",
      "metadata": {
        "id": "Ty8XJyf2FsQG",
        "colab_type": "code",
        "outputId": "1ea7796b-2923-47d1-d496-fbfd45188503",
        "colab": {
          "base_uri": "https://localhost:8080/",
          "height": 318
        }
      },
      "source": [
        "# Plotting the test loss\n",
        "sns.set_style(\"darkgrid\")\n",
        "plt.plot(test_loss)\n",
        "plt.xlabel(\"# of Epochs\")\n",
        "plt.ylabel(\"loss\")\n",
        "plt.title(\"Testing loss calculated after every epoch\")\n",
        "plt.show()\n",
        "print(\"Final testing loss: \",str(test_loss[-1]))"
      ],
      "execution_count": 0,
      "outputs": [
        {
          "output_type": "display_data",
          "data": {
            "image/png": "[encoded data removed]",
            "text/plain": [
              "<Figure size 432x288 with 1 Axes>"
            ]
          },
          "metadata": {
            "tags": []
          }
        },
        {
          "output_type": "stream",
          "text": [
            "Final testing loss:  0.53421694\n"
          ],
          "name": "stdout"
        }
      ]
    },
    {
      "cell_type": "markdown",
      "metadata": {
        "id": "k46D1-D4e23-",
        "colab_type": "text"
      },
      "source": [
        "## Testing\n",
        "\n",
        "To test our model, we will create minibatches like we did for the training examples. \n",
        "\n",
        "For eg: \n",
        "Say the first 10 audio files are for speaker 1. We take all combinations of this speaker's audio files and call it *positive* examples. We can take 1 file from this speaker and 1 from some other speaker and call it *negative* examples. Like in training, for every speaker, we'll be generating 90 pairs (45 +ve and 45 -ve).\n",
        "\n",
        "We won't pass the labels and calculate the accuracy for every batch. The mean accuracy across all batches would tell us the performance of our model. \n"
      ]
    },
    {
      "cell_type": "code",
      "metadata": {
        "id": "HwZgSvEEa_6I",
        "colab_type": "code",
        "colab": {}
      },
      "source": [
        "# Testing\n",
        "mini_batch = miniBatch(tes_stft)\n",
        "test_accuracy = []\n",
        "\n",
        "for iter in range(mini_batch.iters):\n",
        "    left,right,y_true = mini_batch.nextBatch()\n",
        "    y_test_pred = sess.run(y_pred_sigmoid, feed_dict={x_left:left,x_right:right})\n",
        "    \n",
        "    # The values of y_pred needs to be thresholded\n",
        "    threshold = 0.5\n",
        "    y_test_pred[y_test_pred >= threshold] = 1\n",
        "    y_test_pred[y_test_pred < threshold] = 0\n",
        "    \n",
        "    acc = (np.sum(y_test_pred == y_true))/y_test_pred.shape[0]\n",
        "\n",
        "    test_accuracy.append(acc)"
      ],
      "execution_count": 0,
      "outputs": []
    },
    {
      "cell_type": "code",
      "metadata": {
        "id": "ANeOkUTZbHeD",
        "colab_type": "code",
        "outputId": "67b96328-e07a-479a-8726-f77cb59729a7",
        "colab": {
          "base_uri": "https://localhost:8080/",
          "height": 301
        }
      },
      "source": [
        "sns.distplot(test_accuracy)\n",
        "plt.title(\"Distribution of accuracy on 20 test mini-batches\")\n",
        "plt.xlabel(\"Accuracy\")\n",
        "plt.ylabel(\"# of mini batches\")\n",
        "plt.show()"
      ],
      "execution_count": 0,
      "outputs": [
        {
          "output_type": "display_data",
          "data": {
            "image/png": "[encoded data removed]",
            "text/plain": [
              "<Figure size 432x288 with 1 Axes>"
            ]
          },
          "metadata": {
            "tags": []
          }
        }
      ]
    },
    {
      "cell_type": "code",
      "metadata": {
        "id": "SnDfJwKakuuw",
        "colab_type": "code",
        "outputId": "e610a283-6b02-42dd-eb43-5664028b782c",
        "colab": {
          "base_uri": "https://localhost:8080/",
          "height": 34
        }
      },
      "source": [
        "mean_acc = round(np.mean(test_accuracy),3)\n",
        "print(\"The mean accuracy on test examples is :\",mean_acc)"
      ],
      "execution_count": 0,
      "outputs": [
        {
          "output_type": "stream",
          "text": [
            "The mean accuracy on test examples is : 0.761\n"
          ],
          "name": "stdout"
        }
      ]
    }
  ]
}